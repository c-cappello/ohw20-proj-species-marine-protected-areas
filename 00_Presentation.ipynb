{
 "cells": [
  {
   "cell_type": "markdown",
   "metadata": {},
   "source": [
    "# Presentation on OBIS MPA Project"
   ]
  },
  {
   "cell_type": "markdown",
   "metadata": {},
   "source": [
    "![MPA](MPA.png)"
   ]
  },
  {
   "cell_type": "code",
   "execution_count": 15,
   "metadata": {},
   "outputs": [],
   "source": [
    "# install all libraries needed\n",
    "\n",
    "library(sf)\n",
    "library(robis)\n",
    "library(tidyverse)\n",
    "library(ggplot2)\n",
    "library(rnaturalearth)\n",
    "library(RColorBrewer)\n",
    "library(rnaturalearthdata)\n",
    "library(vegan)\n",
    "\n"
   ]
  },
  {
   "cell_type": "markdown",
   "metadata": {},
   "source": [
    "### Download MPA polygons from NOAA"
   ]
  },
  {
   "cell_type": "code",
   "execution_count": null,
   "metadata": {},
   "outputs": [],
   "source": [
    "# Ben Tuppers Code: how to download NOAA MPAs, not to be run"
   ]
  },
  {
   "cell_type": "markdown",
   "metadata": {},
   "source": [
    "### Choose MPA polygon(s) of interest"
   ]
  },
  {
   "cell_type": "code",
   "execution_count": 6,
   "metadata": {},
   "outputs": [],
   "source": [
    "## Given the MPA of interest, extract data from OBIS withinn the MPA ##\n",
    "\n",
    "# OBIS request function occurrence() in robis requires a text-formatted \n",
    "# geometry input this is a simple helper function to convert a standard \n",
    "# polygon shapefile into a suitable text-formatted geometry\n",
    "\n",
    "extract_polygon_geometry <- function(polygon) {\n",
    "  polygon %>%\n",
    "    st_geometry(.) %>%\n",
    "    st_as_text(.) %>%\n",
    "    return(.)\n",
    "}"
   ]
  },
  {
   "cell_type": "code",
   "execution_count": 7,
   "metadata": {},
   "outputs": [
    {
     "name": "stdout",
     "output_type": "stream",
     "text": [
      "Reading layer `ca_all_mpas' from data source `/home/jovyan/ohw20-proj-species-marine-protected-areas/shapefiles/california_mpas/ca_all_mpas.geojson' using driver `GeoJSON'\n",
      "Simple feature collection with 155 features and 14 fields\n",
      "geometry type:  MULTIPOLYGON\n",
      "dimension:      XY\n",
      "bbox:           xmin: -124.5326 ymin: 32.53284 xmax: -117.1238 ymax: 42.00004\n",
      "geographic CRS: WGS 84\n"
     ]
    }
   ],
   "source": [
    "# Load sample polygons - California MPA file\n",
    "# Can replace this with global polygons when those are available\n",
    "\n",
    "ca_mpa_polygons <- st_read(\"shapefiles/california_mpas/ca_all_mpas.geojson\")\n",
    "\n",
    "\n",
    "# subset a couple of MPA polygons\n",
    "\n",
    "# Soquel Canyon is a little more offshore\n",
    "soquel_canyon_smca <- ca_mpa_polygons %>% filter(MPA_NAME == \"Soquel Canyon SMCA\")\n",
    "\n",
    "# Point Lobos is more coastal but an older MPA\n",
    "point_lobos_smca <-ca_mpa_polygons %>% filter(MPA_NAME == \"Point Lobos SMCA\")"
   ]
  },
  {
   "cell_type": "markdown",
   "metadata": {},
   "source": [
    "### Get all species in MPA(s) from OBIS"
   ]
  },
  {
   "cell_type": "code",
   "execution_count": 8,
   "metadata": {},
   "outputs": [
    {
     "name": "stderr",
     "output_type": "stream",
     "text": [
      "Retrieved 5000 records of approximately 6477 (77%)\n",
      "Retrieved 6477 records of approximately 6477 (100%)\n",
      "Retrieved 1600 records of approximately 1600 (100%)\n"
     ]
    }
   ],
   "source": [
    "## pull all OBIS records for two California MPAs ##\n",
    "\n",
    "soquel_canyon_records <- occurrence(geometry = extract_polygon_geometry(soquel_canyon_smca))\n",
    "point_lobos_records <- occurrence(geometry = extract_polygon_geometry(point_lobos_smca))"
   ]
  },
  {
   "cell_type": "code",
   "execution_count": 9,
   "metadata": {},
   "outputs": [
    {
     "data": {
      "text/html": [
       "<table>\n",
       "<caption>A tibble: 6 × 148</caption>\n",
       "<thead>\n",
       "\t<tr><th scope=col>brackish</th><th scope=col>date_year</th><th scope=col>references</th><th scope=col>scientificNameID</th><th scope=col>scientificName</th><th scope=col>coordinateUncertaintyInMeters</th><th scope=col>absence</th><th scope=col>individualCount</th><th scope=col>dropped</th><th scope=col>aphiaID</th><th scope=col>⋯</th><th scope=col>parvorder</th><th scope=col>parvorderid</th><th scope=col>organismID</th><th scope=col>category</th><th scope=col>organismQuantity</th><th scope=col>organismQuantityType</th><th scope=col>infrakingdomid</th><th scope=col>subkingdom</th><th scope=col>infrakingdom</th><th scope=col>subkingdomid</th></tr>\n",
       "\t<tr><th scope=col>&lt;lgl&gt;</th><th scope=col>&lt;int&gt;</th><th scope=col>&lt;chr&gt;</th><th scope=col>&lt;chr&gt;</th><th scope=col>&lt;chr&gt;</th><th scope=col>&lt;chr&gt;</th><th scope=col>&lt;lgl&gt;</th><th scope=col>&lt;chr&gt;</th><th scope=col>&lt;lgl&gt;</th><th scope=col>&lt;int&gt;</th><th scope=col>⋯</th><th scope=col>&lt;chr&gt;</th><th scope=col>&lt;int&gt;</th><th scope=col>&lt;chr&gt;</th><th scope=col>&lt;chr&gt;</th><th scope=col>&lt;chr&gt;</th><th scope=col>&lt;chr&gt;</th><th scope=col>&lt;int&gt;</th><th scope=col>&lt;chr&gt;</th><th scope=col>&lt;chr&gt;</th><th scope=col>&lt;int&gt;</th></tr>\n",
       "</thead>\n",
       "<tbody>\n",
       "\t<tr><td> TRUE</td><td>2003</td><td>https://www.ncei.noaa.gov/erddap/tabledap/deep_sea_corals.csv?ShallowFlag%2CDatasetID%2CCatalogNumber%2CSampleID%2CCitation%2CRepository%2CScientificName%2CVern [...]</td><td>urn:lsid:marinespecies.org:taxname:558   </td><td>Porifera        </td><td>500m</td><td>FALSE</td><td>1   </td><td>FALSE</td><td>   558</td><td>⋯</td><td>NA</td><td>NA</td><td>NA</td><td>NA</td><td>NA</td><td>NA</td><td>NA</td><td>NA</td><td>NA</td><td>NA</td></tr>\n",
       "\t<tr><td>FALSE</td><td>2000</td><td>NA                                                                                                                                                                    </td><td>urn:lsid:marinespecies.org:taxname:124713</td><td>Psolus squamatus</td><td>NA  </td><td>FALSE</td><td>NA  </td><td>FALSE</td><td>124713</td><td>⋯</td><td>NA</td><td>NA</td><td>NA</td><td>NA</td><td>NA</td><td>NA</td><td>NA</td><td>NA</td><td>NA</td><td>NA</td></tr>\n",
       "\t<tr><td>   NA</td><td>1991</td><td>http://calcofi.org/publications/calcofireports/v57/Vol57-Sakuma_pages.163-183.pdf                                                                                     </td><td>urn:lsid:marinespecies.org:taxname:1128  </td><td>Euphausiacea    </td><td>NA  </td><td>FALSE</td><td>7150</td><td>FALSE</td><td>  1128</td><td>⋯</td><td>NA</td><td>NA</td><td>NA</td><td>NA</td><td>NA</td><td>NA</td><td>NA</td><td>NA</td><td>NA</td><td>NA</td></tr>\n",
       "\t<tr><td>   NA</td><td>2007</td><td>https://www.ncei.noaa.gov/erddap/tabledap/deep_sea_corals.csv?ShallowFlag%2CDatasetID%2CCatalogNumber%2CSampleID%2CCitation%2CRepository%2CScientificName%2CVern [...]</td><td>urn:lsid:marinespecies.org:taxname:125267</td><td>Holaxonia       </td><td>50m </td><td>FALSE</td><td>3   </td><td>FALSE</td><td>125267</td><td>⋯</td><td>NA</td><td>NA</td><td>NA</td><td>NA</td><td>NA</td><td>NA</td><td>NA</td><td>NA</td><td>NA</td><td>NA</td></tr>\n",
       "\t<tr><td>FALSE</td><td>2002</td><td>https://www.ncei.noaa.gov/erddap/tabledap/deep_sea_corals.csv?ShallowFlag%2CDatasetID%2CCatalogNumber%2CSampleID%2CCitation%2CRepository%2CScientificName%2CVern [...]</td><td>urn:lsid:marinespecies.org:taxname:132046</td><td>Polymastia      </td><td>500m</td><td>FALSE</td><td>2   </td><td>FALSE</td><td>132046</td><td>⋯</td><td>NA</td><td>NA</td><td>NA</td><td>NA</td><td>NA</td><td>NA</td><td>NA</td><td>NA</td><td>NA</td><td>NA</td></tr>\n",
       "\t<tr><td>   NA</td><td>2000</td><td>NA                                                                                                                                                                    </td><td>urn:lsid:marinespecies.org:taxname:135392</td><td>Nanomia         </td><td>NA  </td><td>FALSE</td><td>NA  </td><td>FALSE</td><td>135392</td><td>⋯</td><td>NA</td><td>NA</td><td>NA</td><td>NA</td><td>NA</td><td>NA</td><td>NA</td><td>NA</td><td>NA</td><td>NA</td></tr>\n",
       "</tbody>\n",
       "</table>\n"
      ],
      "text/latex": [
       "A tibble: 6 × 148\n",
       "\\begin{tabular}{lllllllllllllllllllll}\n",
       " brackish & date\\_year & references & scientificNameID & scientificName & coordinateUncertaintyInMeters & absence & individualCount & dropped & aphiaID & ⋯ & parvorder & parvorderid & organismID & category & organismQuantity & organismQuantityType & infrakingdomid & subkingdom & infrakingdom & subkingdomid\\\\\n",
       " <lgl> & <int> & <chr> & <chr> & <chr> & <chr> & <lgl> & <chr> & <lgl> & <int> & ⋯ & <chr> & <int> & <chr> & <chr> & <chr> & <chr> & <int> & <chr> & <chr> & <int>\\\\\n",
       "\\hline\n",
       "\t  TRUE & 2003 & https://www.ncei.noaa.gov/erddap/tabledap/deep\\_sea\\_corals.csv?ShallowFlag\\%2CDatasetID\\%2CCatalogNumber\\%2CSampleID\\%2CCitation\\%2CRepository\\%2CScientificName\\%2CVern {[}...{]} & urn:lsid:marinespecies.org:taxname:558    & Porifera         & 500m & FALSE & 1    & FALSE &    558 & ⋯ & NA & NA & NA & NA & NA & NA & NA & NA & NA & NA\\\\\n",
       "\t FALSE & 2000 & NA                                                                                                                                                                     & urn:lsid:marinespecies.org:taxname:124713 & Psolus squamatus & NA   & FALSE & NA   & FALSE & 124713 & ⋯ & NA & NA & NA & NA & NA & NA & NA & NA & NA & NA\\\\\n",
       "\t    NA & 1991 & http://calcofi.org/publications/calcofireports/v57/Vol57-Sakuma\\_pages.163-183.pdf                                                                                      & urn:lsid:marinespecies.org:taxname:1128   & Euphausiacea     & NA   & FALSE & 7150 & FALSE &   1128 & ⋯ & NA & NA & NA & NA & NA & NA & NA & NA & NA & NA\\\\\n",
       "\t    NA & 2007 & https://www.ncei.noaa.gov/erddap/tabledap/deep\\_sea\\_corals.csv?ShallowFlag\\%2CDatasetID\\%2CCatalogNumber\\%2CSampleID\\%2CCitation\\%2CRepository\\%2CScientificName\\%2CVern {[}...{]} & urn:lsid:marinespecies.org:taxname:125267 & Holaxonia        & 50m  & FALSE & 3    & FALSE & 125267 & ⋯ & NA & NA & NA & NA & NA & NA & NA & NA & NA & NA\\\\\n",
       "\t FALSE & 2002 & https://www.ncei.noaa.gov/erddap/tabledap/deep\\_sea\\_corals.csv?ShallowFlag\\%2CDatasetID\\%2CCatalogNumber\\%2CSampleID\\%2CCitation\\%2CRepository\\%2CScientificName\\%2CVern {[}...{]} & urn:lsid:marinespecies.org:taxname:132046 & Polymastia       & 500m & FALSE & 2    & FALSE & 132046 & ⋯ & NA & NA & NA & NA & NA & NA & NA & NA & NA & NA\\\\\n",
       "\t    NA & 2000 & NA                                                                                                                                                                     & urn:lsid:marinespecies.org:taxname:135392 & Nanomia          & NA   & FALSE & NA   & FALSE & 135392 & ⋯ & NA & NA & NA & NA & NA & NA & NA & NA & NA & NA\\\\\n",
       "\\end{tabular}\n"
      ],
      "text/markdown": [
       "\n",
       "A tibble: 6 × 148\n",
       "\n",
       "| brackish &lt;lgl&gt; | date_year &lt;int&gt; | references &lt;chr&gt; | scientificNameID &lt;chr&gt; | scientificName &lt;chr&gt; | coordinateUncertaintyInMeters &lt;chr&gt; | absence &lt;lgl&gt; | individualCount &lt;chr&gt; | dropped &lt;lgl&gt; | aphiaID &lt;int&gt; | ⋯ ⋯ | parvorder &lt;chr&gt; | parvorderid &lt;int&gt; | organismID &lt;chr&gt; | category &lt;chr&gt; | organismQuantity &lt;chr&gt; | organismQuantityType &lt;chr&gt; | infrakingdomid &lt;int&gt; | subkingdom &lt;chr&gt; | infrakingdom &lt;chr&gt; | subkingdomid &lt;int&gt; |\n",
       "|---|---|---|---|---|---|---|---|---|---|---|---|---|---|---|---|---|---|---|---|---|\n",
       "|  TRUE | 2003 | https://www.ncei.noaa.gov/erddap/tabledap/deep_sea_corals.csv?ShallowFlag%2CDatasetID%2CCatalogNumber%2CSampleID%2CCitation%2CRepository%2CScientificName%2CVern [...] | urn:lsid:marinespecies.org:taxname:558    | Porifera         | 500m | FALSE | 1    | FALSE |    558 | ⋯ | NA | NA | NA | NA | NA | NA | NA | NA | NA | NA |\n",
       "| FALSE | 2000 | NA                                                                                                                                                                     | urn:lsid:marinespecies.org:taxname:124713 | Psolus squamatus | NA   | FALSE | NA   | FALSE | 124713 | ⋯ | NA | NA | NA | NA | NA | NA | NA | NA | NA | NA |\n",
       "|    NA | 1991 | http://calcofi.org/publications/calcofireports/v57/Vol57-Sakuma_pages.163-183.pdf                                                                                      | urn:lsid:marinespecies.org:taxname:1128   | Euphausiacea     | NA   | FALSE | 7150 | FALSE |   1128 | ⋯ | NA | NA | NA | NA | NA | NA | NA | NA | NA | NA |\n",
       "|    NA | 2007 | https://www.ncei.noaa.gov/erddap/tabledap/deep_sea_corals.csv?ShallowFlag%2CDatasetID%2CCatalogNumber%2CSampleID%2CCitation%2CRepository%2CScientificName%2CVern [...] | urn:lsid:marinespecies.org:taxname:125267 | Holaxonia        | 50m  | FALSE | 3    | FALSE | 125267 | ⋯ | NA | NA | NA | NA | NA | NA | NA | NA | NA | NA |\n",
       "| FALSE | 2002 | https://www.ncei.noaa.gov/erddap/tabledap/deep_sea_corals.csv?ShallowFlag%2CDatasetID%2CCatalogNumber%2CSampleID%2CCitation%2CRepository%2CScientificName%2CVern [...] | urn:lsid:marinespecies.org:taxname:132046 | Polymastia       | 500m | FALSE | 2    | FALSE | 132046 | ⋯ | NA | NA | NA | NA | NA | NA | NA | NA | NA | NA |\n",
       "|    NA | 2000 | NA                                                                                                                                                                     | urn:lsid:marinespecies.org:taxname:135392 | Nanomia          | NA   | FALSE | NA   | FALSE | 135392 | ⋯ | NA | NA | NA | NA | NA | NA | NA | NA | NA | NA |\n",
       "\n"
      ],
      "text/plain": [
       "  brackish date_year\n",
       "1  TRUE    2003     \n",
       "2 FALSE    2000     \n",
       "3    NA    1991     \n",
       "4    NA    2007     \n",
       "5 FALSE    2002     \n",
       "6    NA    2000     \n",
       "  references                                                                                                                                                            \n",
       "1 https://www.ncei.noaa.gov/erddap/tabledap/deep_sea_corals.csv?ShallowFlag%2CDatasetID%2CCatalogNumber%2CSampleID%2CCitation%2CRepository%2CScientificName%2CVern [...]\n",
       "2 NA                                                                                                                                                                    \n",
       "3 http://calcofi.org/publications/calcofireports/v57/Vol57-Sakuma_pages.163-183.pdf                                                                                     \n",
       "4 https://www.ncei.noaa.gov/erddap/tabledap/deep_sea_corals.csv?ShallowFlag%2CDatasetID%2CCatalogNumber%2CSampleID%2CCitation%2CRepository%2CScientificName%2CVern [...]\n",
       "5 https://www.ncei.noaa.gov/erddap/tabledap/deep_sea_corals.csv?ShallowFlag%2CDatasetID%2CCatalogNumber%2CSampleID%2CCitation%2CRepository%2CScientificName%2CVern [...]\n",
       "6 NA                                                                                                                                                                    \n",
       "  scientificNameID                          scientificName  \n",
       "1 urn:lsid:marinespecies.org:taxname:558    Porifera        \n",
       "2 urn:lsid:marinespecies.org:taxname:124713 Psolus squamatus\n",
       "3 urn:lsid:marinespecies.org:taxname:1128   Euphausiacea    \n",
       "4 urn:lsid:marinespecies.org:taxname:125267 Holaxonia       \n",
       "5 urn:lsid:marinespecies.org:taxname:132046 Polymastia      \n",
       "6 urn:lsid:marinespecies.org:taxname:135392 Nanomia         \n",
       "  coordinateUncertaintyInMeters absence individualCount dropped aphiaID ⋯\n",
       "1 500m                          FALSE   1               FALSE      558  ⋯\n",
       "2 NA                            FALSE   NA              FALSE   124713  ⋯\n",
       "3 NA                            FALSE   7150            FALSE     1128  ⋯\n",
       "4 50m                           FALSE   3               FALSE   125267  ⋯\n",
       "5 500m                          FALSE   2               FALSE   132046  ⋯\n",
       "6 NA                            FALSE   NA              FALSE   135392  ⋯\n",
       "  parvorder parvorderid organismID category organismQuantity\n",
       "1 NA        NA          NA         NA       NA              \n",
       "2 NA        NA          NA         NA       NA              \n",
       "3 NA        NA          NA         NA       NA              \n",
       "4 NA        NA          NA         NA       NA              \n",
       "5 NA        NA          NA         NA       NA              \n",
       "6 NA        NA          NA         NA       NA              \n",
       "  organismQuantityType infrakingdomid subkingdom infrakingdom subkingdomid\n",
       "1 NA                   NA             NA         NA           NA          \n",
       "2 NA                   NA             NA         NA           NA          \n",
       "3 NA                   NA             NA         NA           NA          \n",
       "4 NA                   NA             NA         NA           NA          \n",
       "5 NA                   NA             NA         NA           NA          \n",
       "6 NA                   NA             NA         NA           NA          "
      ]
     },
     "metadata": {},
     "output_type": "display_data"
    },
    {
     "data": {
      "text/html": [
       "<style>\n",
       ".list-inline {list-style: none; margin:0; padding: 0}\n",
       ".list-inline>li {display: inline-block}\n",
       ".list-inline>li:not(:last-child)::after {content: \"\\00b7\"; padding: 0 .5ex}\n",
       "</style>\n",
       "<ol class=list-inline><li>6477</li><li>148</li></ol>\n"
      ],
      "text/latex": [
       "\\begin{enumerate*}\n",
       "\\item 6477\n",
       "\\item 148\n",
       "\\end{enumerate*}\n"
      ],
      "text/markdown": [
       "1. 6477\n",
       "2. 148\n",
       "\n",
       "\n"
      ],
      "text/plain": [
       "[1] 6477  148"
      ]
     },
     "metadata": {},
     "output_type": "display_data"
    },
    {
     "data": {
      "text/html": [
       "<table>\n",
       "<caption>A tibble: 6 × 137</caption>\n",
       "<thead>\n",
       "\t<tr><th scope=col>brackish</th><th scope=col>date_year</th><th scope=col>references</th><th scope=col>scientificNameID</th><th scope=col>scientificName</th><th scope=col>coordinateUncertaintyInMeters</th><th scope=col>absence</th><th scope=col>individualCount</th><th scope=col>dropped</th><th scope=col>aphiaID</th><th scope=col>⋯</th><th scope=col>island</th><th scope=col>verbatimLocality</th><th scope=col>collectionID</th><th scope=col>islandGroup</th><th scope=col>typeStatus</th><th scope=col>georeferenceVerificationStatus</th><th scope=col>verbatimDepth</th><th scope=col>accessRights</th><th scope=col>subgenus</th><th scope=col>subgenusid</th></tr>\n",
       "\t<tr><th scope=col>&lt;lgl&gt;</th><th scope=col>&lt;int&gt;</th><th scope=col>&lt;chr&gt;</th><th scope=col>&lt;chr&gt;</th><th scope=col>&lt;chr&gt;</th><th scope=col>&lt;chr&gt;</th><th scope=col>&lt;lgl&gt;</th><th scope=col>&lt;chr&gt;</th><th scope=col>&lt;lgl&gt;</th><th scope=col>&lt;int&gt;</th><th scope=col>⋯</th><th scope=col>&lt;lgl&gt;</th><th scope=col>&lt;chr&gt;</th><th scope=col>&lt;chr&gt;</th><th scope=col>&lt;lgl&gt;</th><th scope=col>&lt;chr&gt;</th><th scope=col>&lt;chr&gt;</th><th scope=col>&lt;chr&gt;</th><th scope=col>&lt;chr&gt;</th><th scope=col>&lt;chr&gt;</th><th scope=col>&lt;int&gt;</th></tr>\n",
       "</thead>\n",
       "<tbody>\n",
       "\t<tr><td> TRUE</td><td>2007</td><td>https://www.ncei.noaa.gov/erddap/tabledap/deep_sea_corals.csv?ShallowFlag%2CDatasetID%2CCatalogNumber%2CSampleID%2CCitation%2CRepository%2CScientificName%2CVern [...]</td><td>urn:lsid:marinespecies.org:taxname:558   </td><td>Porifera         </td><td>50m</td><td>FALSE</td><td>9 </td><td>FALSE</td><td>   558</td><td>⋯</td><td>NA</td><td>NA</td><td>NA</td><td>NA</td><td>NA</td><td>NA</td><td>NA</td><td>NA</td><td>NA</td><td>NA</td></tr>\n",
       "\t<tr><td>FALSE</td><td>  NA</td><td>NA                                                                                                                                                                    </td><td>urn:lsid:marinespecies.org:taxname:274838</td><td>Sebastes proriger</td><td>NA </td><td>FALSE</td><td>NA</td><td>FALSE</td><td>274838</td><td>⋯</td><td>NA</td><td>NA</td><td>NA</td><td>NA</td><td>NA</td><td>NA</td><td>NA</td><td>NA</td><td>NA</td><td>NA</td></tr>\n",
       "\t<tr><td>   NA</td><td>2000</td><td>NA                                                                                                                                                                    </td><td>urn:lsid:marinespecies.org:taxname:123081</td><td>Crinoidea        </td><td>NA </td><td>FALSE</td><td>NA</td><td>FALSE</td><td>123081</td><td>⋯</td><td>NA</td><td>NA</td><td>NA</td><td>NA</td><td>NA</td><td>NA</td><td>NA</td><td>NA</td><td>NA</td><td>NA</td></tr>\n",
       "\t<tr><td> TRUE</td><td>2007</td><td>https://www.ncei.noaa.gov/erddap/tabledap/deep_sea_corals.csv?ShallowFlag%2CDatasetID%2CCatalogNumber%2CSampleID%2CCitation%2CRepository%2CScientificName%2CVern [...]</td><td>urn:lsid:marinespecies.org:taxname:558   </td><td>Porifera         </td><td>50m</td><td>FALSE</td><td>2 </td><td>FALSE</td><td>   558</td><td>⋯</td><td>NA</td><td>NA</td><td>NA</td><td>NA</td><td>NA</td><td>NA</td><td>NA</td><td>NA</td><td>NA</td><td>NA</td></tr>\n",
       "\t<tr><td>FALSE</td><td>2007</td><td>https://www.ncei.noaa.gov/erddap/tabledap/deep_sea_corals.csv?ShallowFlag%2CDatasetID%2CCatalogNumber%2CSampleID%2CCitation%2CRepository%2CScientificName%2CVern [...]</td><td>urn:lsid:marinespecies.org:taxname:132016</td><td>Poecillastra     </td><td>50m</td><td>FALSE</td><td>1 </td><td>FALSE</td><td>132016</td><td>⋯</td><td>NA</td><td>NA</td><td>NA</td><td>NA</td><td>NA</td><td>NA</td><td>NA</td><td>NA</td><td>NA</td><td>NA</td></tr>\n",
       "\t<tr><td>   NA</td><td>2000</td><td>NA                                                                                                                                                                    </td><td>urn:lsid:marinespecies.org:taxname:123081</td><td>Crinoidea        </td><td>NA </td><td>FALSE</td><td>NA</td><td>FALSE</td><td>123081</td><td>⋯</td><td>NA</td><td>NA</td><td>NA</td><td>NA</td><td>NA</td><td>NA</td><td>NA</td><td>NA</td><td>NA</td><td>NA</td></tr>\n",
       "</tbody>\n",
       "</table>\n"
      ],
      "text/latex": [
       "A tibble: 6 × 137\n",
       "\\begin{tabular}{lllllllllllllllllllll}\n",
       " brackish & date\\_year & references & scientificNameID & scientificName & coordinateUncertaintyInMeters & absence & individualCount & dropped & aphiaID & ⋯ & island & verbatimLocality & collectionID & islandGroup & typeStatus & georeferenceVerificationStatus & verbatimDepth & accessRights & subgenus & subgenusid\\\\\n",
       " <lgl> & <int> & <chr> & <chr> & <chr> & <chr> & <lgl> & <chr> & <lgl> & <int> & ⋯ & <lgl> & <chr> & <chr> & <lgl> & <chr> & <chr> & <chr> & <chr> & <chr> & <int>\\\\\n",
       "\\hline\n",
       "\t  TRUE & 2007 & https://www.ncei.noaa.gov/erddap/tabledap/deep\\_sea\\_corals.csv?ShallowFlag\\%2CDatasetID\\%2CCatalogNumber\\%2CSampleID\\%2CCitation\\%2CRepository\\%2CScientificName\\%2CVern {[}...{]} & urn:lsid:marinespecies.org:taxname:558    & Porifera          & 50m & FALSE & 9  & FALSE &    558 & ⋯ & NA & NA & NA & NA & NA & NA & NA & NA & NA & NA\\\\\n",
       "\t FALSE &   NA & NA                                                                                                                                                                     & urn:lsid:marinespecies.org:taxname:274838 & Sebastes proriger & NA  & FALSE & NA & FALSE & 274838 & ⋯ & NA & NA & NA & NA & NA & NA & NA & NA & NA & NA\\\\\n",
       "\t    NA & 2000 & NA                                                                                                                                                                     & urn:lsid:marinespecies.org:taxname:123081 & Crinoidea         & NA  & FALSE & NA & FALSE & 123081 & ⋯ & NA & NA & NA & NA & NA & NA & NA & NA & NA & NA\\\\\n",
       "\t  TRUE & 2007 & https://www.ncei.noaa.gov/erddap/tabledap/deep\\_sea\\_corals.csv?ShallowFlag\\%2CDatasetID\\%2CCatalogNumber\\%2CSampleID\\%2CCitation\\%2CRepository\\%2CScientificName\\%2CVern {[}...{]} & urn:lsid:marinespecies.org:taxname:558    & Porifera          & 50m & FALSE & 2  & FALSE &    558 & ⋯ & NA & NA & NA & NA & NA & NA & NA & NA & NA & NA\\\\\n",
       "\t FALSE & 2007 & https://www.ncei.noaa.gov/erddap/tabledap/deep\\_sea\\_corals.csv?ShallowFlag\\%2CDatasetID\\%2CCatalogNumber\\%2CSampleID\\%2CCitation\\%2CRepository\\%2CScientificName\\%2CVern {[}...{]} & urn:lsid:marinespecies.org:taxname:132016 & Poecillastra      & 50m & FALSE & 1  & FALSE & 132016 & ⋯ & NA & NA & NA & NA & NA & NA & NA & NA & NA & NA\\\\\n",
       "\t    NA & 2000 & NA                                                                                                                                                                     & urn:lsid:marinespecies.org:taxname:123081 & Crinoidea         & NA  & FALSE & NA & FALSE & 123081 & ⋯ & NA & NA & NA & NA & NA & NA & NA & NA & NA & NA\\\\\n",
       "\\end{tabular}\n"
      ],
      "text/markdown": [
       "\n",
       "A tibble: 6 × 137\n",
       "\n",
       "| brackish &lt;lgl&gt; | date_year &lt;int&gt; | references &lt;chr&gt; | scientificNameID &lt;chr&gt; | scientificName &lt;chr&gt; | coordinateUncertaintyInMeters &lt;chr&gt; | absence &lt;lgl&gt; | individualCount &lt;chr&gt; | dropped &lt;lgl&gt; | aphiaID &lt;int&gt; | ⋯ ⋯ | island &lt;lgl&gt; | verbatimLocality &lt;chr&gt; | collectionID &lt;chr&gt; | islandGroup &lt;lgl&gt; | typeStatus &lt;chr&gt; | georeferenceVerificationStatus &lt;chr&gt; | verbatimDepth &lt;chr&gt; | accessRights &lt;chr&gt; | subgenus &lt;chr&gt; | subgenusid &lt;int&gt; |\n",
       "|---|---|---|---|---|---|---|---|---|---|---|---|---|---|---|---|---|---|---|---|---|\n",
       "|  TRUE | 2007 | https://www.ncei.noaa.gov/erddap/tabledap/deep_sea_corals.csv?ShallowFlag%2CDatasetID%2CCatalogNumber%2CSampleID%2CCitation%2CRepository%2CScientificName%2CVern [...] | urn:lsid:marinespecies.org:taxname:558    | Porifera          | 50m | FALSE | 9  | FALSE |    558 | ⋯ | NA | NA | NA | NA | NA | NA | NA | NA | NA | NA |\n",
       "| FALSE |   NA | NA                                                                                                                                                                     | urn:lsid:marinespecies.org:taxname:274838 | Sebastes proriger | NA  | FALSE | NA | FALSE | 274838 | ⋯ | NA | NA | NA | NA | NA | NA | NA | NA | NA | NA |\n",
       "|    NA | 2000 | NA                                                                                                                                                                     | urn:lsid:marinespecies.org:taxname:123081 | Crinoidea         | NA  | FALSE | NA | FALSE | 123081 | ⋯ | NA | NA | NA | NA | NA | NA | NA | NA | NA | NA |\n",
       "|  TRUE | 2007 | https://www.ncei.noaa.gov/erddap/tabledap/deep_sea_corals.csv?ShallowFlag%2CDatasetID%2CCatalogNumber%2CSampleID%2CCitation%2CRepository%2CScientificName%2CVern [...] | urn:lsid:marinespecies.org:taxname:558    | Porifera          | 50m | FALSE | 2  | FALSE |    558 | ⋯ | NA | NA | NA | NA | NA | NA | NA | NA | NA | NA |\n",
       "| FALSE | 2007 | https://www.ncei.noaa.gov/erddap/tabledap/deep_sea_corals.csv?ShallowFlag%2CDatasetID%2CCatalogNumber%2CSampleID%2CCitation%2CRepository%2CScientificName%2CVern [...] | urn:lsid:marinespecies.org:taxname:132016 | Poecillastra      | 50m | FALSE | 1  | FALSE | 132016 | ⋯ | NA | NA | NA | NA | NA | NA | NA | NA | NA | NA |\n",
       "|    NA | 2000 | NA                                                                                                                                                                     | urn:lsid:marinespecies.org:taxname:123081 | Crinoidea         | NA  | FALSE | NA | FALSE | 123081 | ⋯ | NA | NA | NA | NA | NA | NA | NA | NA | NA | NA |\n",
       "\n"
      ],
      "text/plain": [
       "  brackish date_year\n",
       "1  TRUE    2007     \n",
       "2 FALSE      NA     \n",
       "3    NA    2000     \n",
       "4  TRUE    2007     \n",
       "5 FALSE    2007     \n",
       "6    NA    2000     \n",
       "  references                                                                                                                                                            \n",
       "1 https://www.ncei.noaa.gov/erddap/tabledap/deep_sea_corals.csv?ShallowFlag%2CDatasetID%2CCatalogNumber%2CSampleID%2CCitation%2CRepository%2CScientificName%2CVern [...]\n",
       "2 NA                                                                                                                                                                    \n",
       "3 NA                                                                                                                                                                    \n",
       "4 https://www.ncei.noaa.gov/erddap/tabledap/deep_sea_corals.csv?ShallowFlag%2CDatasetID%2CCatalogNumber%2CSampleID%2CCitation%2CRepository%2CScientificName%2CVern [...]\n",
       "5 https://www.ncei.noaa.gov/erddap/tabledap/deep_sea_corals.csv?ShallowFlag%2CDatasetID%2CCatalogNumber%2CSampleID%2CCitation%2CRepository%2CScientificName%2CVern [...]\n",
       "6 NA                                                                                                                                                                    \n",
       "  scientificNameID                          scientificName   \n",
       "1 urn:lsid:marinespecies.org:taxname:558    Porifera         \n",
       "2 urn:lsid:marinespecies.org:taxname:274838 Sebastes proriger\n",
       "3 urn:lsid:marinespecies.org:taxname:123081 Crinoidea        \n",
       "4 urn:lsid:marinespecies.org:taxname:558    Porifera         \n",
       "5 urn:lsid:marinespecies.org:taxname:132016 Poecillastra     \n",
       "6 urn:lsid:marinespecies.org:taxname:123081 Crinoidea        \n",
       "  coordinateUncertaintyInMeters absence individualCount dropped aphiaID ⋯\n",
       "1 50m                           FALSE   9               FALSE      558  ⋯\n",
       "2 NA                            FALSE   NA              FALSE   274838  ⋯\n",
       "3 NA                            FALSE   NA              FALSE   123081  ⋯\n",
       "4 50m                           FALSE   2               FALSE      558  ⋯\n",
       "5 50m                           FALSE   1               FALSE   132016  ⋯\n",
       "6 NA                            FALSE   NA              FALSE   123081  ⋯\n",
       "  island verbatimLocality collectionID islandGroup typeStatus\n",
       "1 NA     NA               NA           NA          NA        \n",
       "2 NA     NA               NA           NA          NA        \n",
       "3 NA     NA               NA           NA          NA        \n",
       "4 NA     NA               NA           NA          NA        \n",
       "5 NA     NA               NA           NA          NA        \n",
       "6 NA     NA               NA           NA          NA        \n",
       "  georeferenceVerificationStatus verbatimDepth accessRights subgenus subgenusid\n",
       "1 NA                             NA            NA           NA       NA        \n",
       "2 NA                             NA            NA           NA       NA        \n",
       "3 NA                             NA            NA           NA       NA        \n",
       "4 NA                             NA            NA           NA       NA        \n",
       "5 NA                             NA            NA           NA       NA        \n",
       "6 NA                             NA            NA           NA       NA        "
      ]
     },
     "metadata": {},
     "output_type": "display_data"
    },
    {
     "data": {
      "text/html": [
       "<style>\n",
       ".list-inline {list-style: none; margin:0; padding: 0}\n",
       ".list-inline>li {display: inline-block}\n",
       ".list-inline>li:not(:last-child)::after {content: \"\\00b7\"; padding: 0 .5ex}\n",
       "</style>\n",
       "<ol class=list-inline><li>1600</li><li>137</li></ol>\n"
      ],
      "text/latex": [
       "\\begin{enumerate*}\n",
       "\\item 1600\n",
       "\\item 137\n",
       "\\end{enumerate*}\n"
      ],
      "text/markdown": [
       "1. 1600\n",
       "2. 137\n",
       "\n",
       "\n"
      ],
      "text/plain": [
       "[1] 1600  137"
      ]
     },
     "metadata": {},
     "output_type": "display_data"
    }
   ],
   "source": [
    "# take a quick look at both MPAs\n",
    "head(soquel_canyon_records)\n",
    "dim(soquel_canyon_records)\n",
    "\n",
    "head(point_lobos_records)\n",
    "dim(point_lobos_records)"
   ]
  },
  {
   "cell_type": "markdown",
   "metadata": {},
   "source": [
    "### Compute ES50"
   ]
  },
  {
   "cell_type": "code",
   "execution_count": 10,
   "metadata": {},
   "outputs": [
    {
     "name": "stderr",
     "output_type": "stream",
     "text": [
      "Warning message in eval(expr, envir, enclos):\n",
      "“NAs introduced by coercion”\n",
      "Warning message in eval(expr, envir, enclos):\n",
      "“NAs introduced by coercion”\n"
     ]
    }
   ],
   "source": [
    "# Natalie P, calculate ES50.\n",
    "# Also can do before and after ES50 (one day, maybe, not today)\n",
    "\n",
    "#convert individual counts from character to numeric\n",
    "#soquel_canyon_records\n",
    "soquel_canyon_records$individualCount <- as.numeric(soquel_canyon_records$individualCount)\n",
    "#convert NANs to 1\n",
    "soquel_canyon_records$individualCount[is.na(soquel_canyon_records$individualCount)] <- 1 \n",
    "soquel_canyon_records$Count <- 1 * soquel_canyon_records$individualCount\n",
    "\n",
    "#point_lobos_records\n",
    "point_lobos_records$individualCount <- as.numeric(point_lobos_records$individualCount)\n",
    "#convert NANs to 1\n",
    "point_lobos_records$individualCount[is.na(point_lobos_records$individualCount)] <- 1 \n",
    "point_lobos_records$Count <- 1 * point_lobos_records$individualCount\n"
   ]
  },
  {
   "cell_type": "code",
   "execution_count": 12,
   "metadata": {},
   "outputs": [
    {
     "data": {
      "text/html": [
       "<table>\n",
       "<caption>A data.frame: 225 × 2</caption>\n",
       "<thead>\n",
       "\t<tr><th scope=col>Category</th><th scope=col>x</th></tr>\n",
       "\t<tr><th scope=col>&lt;chr&gt;</th><th scope=col>&lt;dbl&gt;</th></tr>\n",
       "</thead>\n",
       "<tbody>\n",
       "\t<tr><td>Acanthoptilum              </td><td>268</td></tr>\n",
       "\t<tr><td>Actiniaria                 </td><td> 10</td></tr>\n",
       "\t<tr><td>Actinopterygii             </td><td> 11</td></tr>\n",
       "\t<tr><td>Aegina                     </td><td> 41</td></tr>\n",
       "\t<tr><td>Aglaophenia struthionides  </td><td>  3</td></tr>\n",
       "\t<tr><td>Agonidae                   </td><td>  4</td></tr>\n",
       "\t<tr><td>Alcidae                    </td><td>  4</td></tr>\n",
       "\t<tr><td>Alcyonacea                 </td><td> 20</td></tr>\n",
       "\t<tr><td>Anarrhichthys ocellatus    </td><td>  2</td></tr>\n",
       "\t<tr><td>Animalia                   </td><td>  1</td></tr>\n",
       "\t<tr><td>Anthomastus                </td><td>154</td></tr>\n",
       "\t<tr><td>Antipatharia               </td><td>  1</td></tr>\n",
       "\t<tr><td>Appendicularia             </td><td> 26</td></tr>\n",
       "\t<tr><td>Argentina sialis           </td><td>104</td></tr>\n",
       "\t<tr><td>Asbestopluma (Asbestopluma)</td><td> 11</td></tr>\n",
       "\t<tr><td>Asteroidea                 </td><td>  1</td></tr>\n",
       "\t<tr><td>Astropecten californicus   </td><td> 32</td></tr>\n",
       "\t<tr><td>Aurelia                    </td><td> 46</td></tr>\n",
       "\t<tr><td>Balaenoptera musculus      </td><td> 25</td></tr>\n",
       "\t<tr><td>Balanophyllia              </td><td>  1</td></tr>\n",
       "\t<tr><td>Bathochordaeus             </td><td>  4</td></tr>\n",
       "\t<tr><td>Bathylagidae               </td><td>  4</td></tr>\n",
       "\t<tr><td>Beroe                      </td><td>127</td></tr>\n",
       "\t<tr><td>Bolinopsis                 </td><td> 69</td></tr>\n",
       "\t<tr><td>Caniformia                 </td><td>  1</td></tr>\n",
       "\t<tr><td>Caridea                    </td><td>935</td></tr>\n",
       "\t<tr><td>Caryophylliidae            </td><td> 41</td></tr>\n",
       "\t<tr><td>Cerorhinca monocerata      </td><td> 45</td></tr>\n",
       "\t<tr><td>Cetacea                    </td><td>  3</td></tr>\n",
       "\t<tr><td>Chaetognatha               </td><td>  5</td></tr>\n",
       "\t<tr><td>⋮</td><td>⋮</td></tr>\n",
       "\t<tr><td>Sebastes pinniger     </td><td>  3</td></tr>\n",
       "\t<tr><td>Sebastes rufus        </td><td> 14</td></tr>\n",
       "\t<tr><td>Sebastes saxicola     </td><td>244</td></tr>\n",
       "\t<tr><td>Sebastes semicinctus  </td><td> 78</td></tr>\n",
       "\t<tr><td>Sebastes wilsoni      </td><td> 31</td></tr>\n",
       "\t<tr><td>Sergestidae           </td><td>477</td></tr>\n",
       "\t<tr><td>Siphonophorae         </td><td>  5</td></tr>\n",
       "\t<tr><td>Solmissus             </td><td>  7</td></tr>\n",
       "\t<tr><td>Stercorarius pomarinus</td><td>  2</td></tr>\n",
       "\t<tr><td>Sterna                </td><td>  1</td></tr>\n",
       "\t<tr><td>Sterna paradisaea     </td><td>  2</td></tr>\n",
       "\t<tr><td>Stylaster             </td><td>  1</td></tr>\n",
       "\t<tr><td>Stylaster californicus</td><td>  1</td></tr>\n",
       "\t<tr><td>Swiftia               </td><td>  4</td></tr>\n",
       "\t<tr><td>Swiftia pacifica      </td><td>  1</td></tr>\n",
       "\t<tr><td>Swiftia simplex       </td><td>  4</td></tr>\n",
       "\t<tr><td>Synodus lucioceps     </td><td>  4</td></tr>\n",
       "\t<tr><td>Tetronarce californica</td><td> 24</td></tr>\n",
       "\t<tr><td>Teuthida              </td><td>542</td></tr>\n",
       "\t<tr><td>Thenea muricata       </td><td>  5</td></tr>\n",
       "\t<tr><td>Thetys vagina         </td><td>147</td></tr>\n",
       "\t<tr><td>Trachipterus altivelis</td><td>  7</td></tr>\n",
       "\t<tr><td>Trachurus symmetricus </td><td>  1</td></tr>\n",
       "\t<tr><td>Tunicata              </td><td>  1</td></tr>\n",
       "\t<tr><td>Uria aalge            </td><td>158</td></tr>\n",
       "\t<tr><td>Virgulariidae         </td><td> 28</td></tr>\n",
       "\t<tr><td>Zalophus californianus</td><td> 14</td></tr>\n",
       "\t<tr><td>Zaniolepis            </td><td>139</td></tr>\n",
       "\t<tr><td>Zaprora silenus       </td><td>  1</td></tr>\n",
       "\t<tr><td>Zoarcidae             </td><td>  4</td></tr>\n",
       "</tbody>\n",
       "</table>\n"
      ],
      "text/latex": [
       "A data.frame: 225 × 2\n",
       "\\begin{tabular}{ll}\n",
       " Category & x\\\\\n",
       " <chr> & <dbl>\\\\\n",
       "\\hline\n",
       "\t Acanthoptilum               & 268\\\\\n",
       "\t Actiniaria                  &  10\\\\\n",
       "\t Actinopterygii              &  11\\\\\n",
       "\t Aegina                      &  41\\\\\n",
       "\t Aglaophenia struthionides   &   3\\\\\n",
       "\t Agonidae                    &   4\\\\\n",
       "\t Alcidae                     &   4\\\\\n",
       "\t Alcyonacea                  &  20\\\\\n",
       "\t Anarrhichthys ocellatus     &   2\\\\\n",
       "\t Animalia                    &   1\\\\\n",
       "\t Anthomastus                 & 154\\\\\n",
       "\t Antipatharia                &   1\\\\\n",
       "\t Appendicularia              &  26\\\\\n",
       "\t Argentina sialis            & 104\\\\\n",
       "\t Asbestopluma (Asbestopluma) &  11\\\\\n",
       "\t Asteroidea                  &   1\\\\\n",
       "\t Astropecten californicus    &  32\\\\\n",
       "\t Aurelia                     &  46\\\\\n",
       "\t Balaenoptera musculus       &  25\\\\\n",
       "\t Balanophyllia               &   1\\\\\n",
       "\t Bathochordaeus              &   4\\\\\n",
       "\t Bathylagidae                &   4\\\\\n",
       "\t Beroe                       & 127\\\\\n",
       "\t Bolinopsis                  &  69\\\\\n",
       "\t Caniformia                  &   1\\\\\n",
       "\t Caridea                     & 935\\\\\n",
       "\t Caryophylliidae             &  41\\\\\n",
       "\t Cerorhinca monocerata       &  45\\\\\n",
       "\t Cetacea                     &   3\\\\\n",
       "\t Chaetognatha                &   5\\\\\n",
       "\t ⋮ & ⋮\\\\\n",
       "\t Sebastes pinniger      &   3\\\\\n",
       "\t Sebastes rufus         &  14\\\\\n",
       "\t Sebastes saxicola      & 244\\\\\n",
       "\t Sebastes semicinctus   &  78\\\\\n",
       "\t Sebastes wilsoni       &  31\\\\\n",
       "\t Sergestidae            & 477\\\\\n",
       "\t Siphonophorae          &   5\\\\\n",
       "\t Solmissus              &   7\\\\\n",
       "\t Stercorarius pomarinus &   2\\\\\n",
       "\t Sterna                 &   1\\\\\n",
       "\t Sterna paradisaea      &   2\\\\\n",
       "\t Stylaster              &   1\\\\\n",
       "\t Stylaster californicus &   1\\\\\n",
       "\t Swiftia                &   4\\\\\n",
       "\t Swiftia pacifica       &   1\\\\\n",
       "\t Swiftia simplex        &   4\\\\\n",
       "\t Synodus lucioceps      &   4\\\\\n",
       "\t Tetronarce californica &  24\\\\\n",
       "\t Teuthida               & 542\\\\\n",
       "\t Thenea muricata        &   5\\\\\n",
       "\t Thetys vagina          & 147\\\\\n",
       "\t Trachipterus altivelis &   7\\\\\n",
       "\t Trachurus symmetricus  &   1\\\\\n",
       "\t Tunicata               &   1\\\\\n",
       "\t Uria aalge             & 158\\\\\n",
       "\t Virgulariidae          &  28\\\\\n",
       "\t Zalophus californianus &  14\\\\\n",
       "\t Zaniolepis             & 139\\\\\n",
       "\t Zaprora silenus        &   1\\\\\n",
       "\t Zoarcidae              &   4\\\\\n",
       "\\end{tabular}\n"
      ],
      "text/markdown": [
       "\n",
       "A data.frame: 225 × 2\n",
       "\n",
       "| Category &lt;chr&gt; | x &lt;dbl&gt; |\n",
       "|---|---|\n",
       "| Acanthoptilum               | 268 |\n",
       "| Actiniaria                  |  10 |\n",
       "| Actinopterygii              |  11 |\n",
       "| Aegina                      |  41 |\n",
       "| Aglaophenia struthionides   |   3 |\n",
       "| Agonidae                    |   4 |\n",
       "| Alcidae                     |   4 |\n",
       "| Alcyonacea                  |  20 |\n",
       "| Anarrhichthys ocellatus     |   2 |\n",
       "| Animalia                    |   1 |\n",
       "| Anthomastus                 | 154 |\n",
       "| Antipatharia                |   1 |\n",
       "| Appendicularia              |  26 |\n",
       "| Argentina sialis            | 104 |\n",
       "| Asbestopluma (Asbestopluma) |  11 |\n",
       "| Asteroidea                  |   1 |\n",
       "| Astropecten californicus    |  32 |\n",
       "| Aurelia                     |  46 |\n",
       "| Balaenoptera musculus       |  25 |\n",
       "| Balanophyllia               |   1 |\n",
       "| Bathochordaeus              |   4 |\n",
       "| Bathylagidae                |   4 |\n",
       "| Beroe                       | 127 |\n",
       "| Bolinopsis                  |  69 |\n",
       "| Caniformia                  |   1 |\n",
       "| Caridea                     | 935 |\n",
       "| Caryophylliidae             |  41 |\n",
       "| Cerorhinca monocerata       |  45 |\n",
       "| Cetacea                     |   3 |\n",
       "| Chaetognatha                |   5 |\n",
       "| ⋮ | ⋮ |\n",
       "| Sebastes pinniger      |   3 |\n",
       "| Sebastes rufus         |  14 |\n",
       "| Sebastes saxicola      | 244 |\n",
       "| Sebastes semicinctus   |  78 |\n",
       "| Sebastes wilsoni       |  31 |\n",
       "| Sergestidae            | 477 |\n",
       "| Siphonophorae          |   5 |\n",
       "| Solmissus              |   7 |\n",
       "| Stercorarius pomarinus |   2 |\n",
       "| Sterna                 |   1 |\n",
       "| Sterna paradisaea      |   2 |\n",
       "| Stylaster              |   1 |\n",
       "| Stylaster californicus |   1 |\n",
       "| Swiftia                |   4 |\n",
       "| Swiftia pacifica       |   1 |\n",
       "| Swiftia simplex        |   4 |\n",
       "| Synodus lucioceps      |   4 |\n",
       "| Tetronarce californica |  24 |\n",
       "| Teuthida               | 542 |\n",
       "| Thenea muricata        |   5 |\n",
       "| Thetys vagina          | 147 |\n",
       "| Trachipterus altivelis |   7 |\n",
       "| Trachurus symmetricus  |   1 |\n",
       "| Tunicata               |   1 |\n",
       "| Uria aalge             | 158 |\n",
       "| Virgulariidae          |  28 |\n",
       "| Zalophus californianus |  14 |\n",
       "| Zaniolepis             | 139 |\n",
       "| Zaprora silenus        |   1 |\n",
       "| Zoarcidae              |   4 |\n",
       "\n"
      ],
      "text/plain": [
       "    Category                    x  \n",
       "1   Acanthoptilum               268\n",
       "2   Actiniaria                   10\n",
       "3   Actinopterygii               11\n",
       "4   Aegina                       41\n",
       "5   Aglaophenia struthionides     3\n",
       "6   Agonidae                      4\n",
       "7   Alcidae                       4\n",
       "8   Alcyonacea                   20\n",
       "9   Anarrhichthys ocellatus       2\n",
       "10  Animalia                      1\n",
       "11  Anthomastus                 154\n",
       "12  Antipatharia                  1\n",
       "13  Appendicularia               26\n",
       "14  Argentina sialis            104\n",
       "15  Asbestopluma (Asbestopluma)  11\n",
       "16  Asteroidea                    1\n",
       "17  Astropecten californicus     32\n",
       "18  Aurelia                      46\n",
       "19  Balaenoptera musculus        25\n",
       "20  Balanophyllia                 1\n",
       "21  Bathochordaeus                4\n",
       "22  Bathylagidae                  4\n",
       "23  Beroe                       127\n",
       "24  Bolinopsis                   69\n",
       "25  Caniformia                    1\n",
       "26  Caridea                     935\n",
       "27  Caryophylliidae              41\n",
       "28  Cerorhinca monocerata        45\n",
       "29  Cetacea                       3\n",
       "30  Chaetognatha                  5\n",
       "⋮   ⋮                           ⋮  \n",
       "196 Sebastes pinniger             3\n",
       "197 Sebastes rufus               14\n",
       "198 Sebastes saxicola           244\n",
       "199 Sebastes semicinctus         78\n",
       "200 Sebastes wilsoni             31\n",
       "201 Sergestidae                 477\n",
       "202 Siphonophorae                 5\n",
       "203 Solmissus                     7\n",
       "204 Stercorarius pomarinus        2\n",
       "205 Sterna                        1\n",
       "206 Sterna paradisaea             2\n",
       "207 Stylaster                     1\n",
       "208 Stylaster californicus        1\n",
       "209 Swiftia                       4\n",
       "210 Swiftia pacifica              1\n",
       "211 Swiftia simplex               4\n",
       "212 Synodus lucioceps             4\n",
       "213 Tetronarce californica       24\n",
       "214 Teuthida                    542\n",
       "215 Thenea muricata               5\n",
       "216 Thetys vagina               147\n",
       "217 Trachipterus altivelis        7\n",
       "218 Trachurus symmetricus         1\n",
       "219 Tunicata                      1\n",
       "220 Uria aalge                  158\n",
       "221 Virgulariidae                28\n",
       "222 Zalophus californianus       14\n",
       "223 Zaniolepis                  139\n",
       "224 Zaprora silenus               1\n",
       "225 Zoarcidae                     4"
      ]
     },
     "metadata": {},
     "output_type": "display_data"
    },
    {
     "data": {
      "text/html": [
       "<table>\n",
       "<caption>A data.frame: 69 × 2</caption>\n",
       "<thead>\n",
       "\t<tr><th scope=col>Category</th><th scope=col>x</th></tr>\n",
       "\t<tr><th scope=col>&lt;chr&gt;</th><th scope=col>&lt;dbl&gt;</th></tr>\n",
       "</thead>\n",
       "<tbody>\n",
       "\t<tr><td>Actiniaria                   </td><td>  5</td></tr>\n",
       "\t<tr><td>Actinopterygii               </td><td>  2</td></tr>\n",
       "\t<tr><td>Aegina                       </td><td>  1</td></tr>\n",
       "\t<tr><td>Alcyonacea                   </td><td>  4</td></tr>\n",
       "\t<tr><td>Amphiophiura superba         </td><td>  5</td></tr>\n",
       "\t<tr><td>Amphiura (Amphiura) diomedeae</td><td>  2</td></tr>\n",
       "\t<tr><td>Anelassorhynchus abyssalis   </td><td>  2</td></tr>\n",
       "\t<tr><td>Asteroidea                   </td><td>  4</td></tr>\n",
       "\t<tr><td>Asteronyx loveni             </td><td>  1</td></tr>\n",
       "\t<tr><td>Balaenoptera musculus        </td><td> 22</td></tr>\n",
       "\t<tr><td>Bathyraja interrupta         </td><td>  1</td></tr>\n",
       "\t<tr><td>Bothrocara molle             </td><td>  1</td></tr>\n",
       "\t<tr><td>Calappidae                   </td><td>  1</td></tr>\n",
       "\t<tr><td>Chimaera                     </td><td>  1</td></tr>\n",
       "\t<tr><td>Chordata                     </td><td> 12</td></tr>\n",
       "\t<tr><td>Cnidaria                     </td><td>  3</td></tr>\n",
       "\t<tr><td>Crinoidea                    </td><td> 77</td></tr>\n",
       "\t<tr><td>Decapoda                     </td><td>  4</td></tr>\n",
       "\t<tr><td>Delphinidae                  </td><td>  7</td></tr>\n",
       "\t<tr><td>Desmophyllum pertusum        </td><td>  8</td></tr>\n",
       "\t<tr><td>Diphyes dispar               </td><td>  5</td></tr>\n",
       "\t<tr><td>Gorgonocephalidae            </td><td>  1</td></tr>\n",
       "\t<tr><td>Hedingia californica         </td><td>  1</td></tr>\n",
       "\t<tr><td>Heterochone calyx            </td><td>  1</td></tr>\n",
       "\t<tr><td>Holaxonia                    </td><td>105</td></tr>\n",
       "\t<tr><td>Hydrolagus colliei           </td><td>  3</td></tr>\n",
       "\t<tr><td>Icelinus filamentosus        </td><td>  1</td></tr>\n",
       "\t<tr><td>Labridae                     </td><td>  1</td></tr>\n",
       "\t<tr><td>Larus californicus           </td><td>  4</td></tr>\n",
       "\t<tr><td>Larus occidentalis           </td><td>  5</td></tr>\n",
       "\t<tr><td>⋮</td><td>⋮</td></tr>\n",
       "\t<tr><td>Parapagurus benedicti       </td><td>   1</td></tr>\n",
       "\t<tr><td>Pelecanus occidentalis      </td><td>   2</td></tr>\n",
       "\t<tr><td>Pennatulacea                </td><td> 143</td></tr>\n",
       "\t<tr><td>Pennatulidae                </td><td>   5</td></tr>\n",
       "\t<tr><td>Phalacrocorax penicillatus  </td><td>   2</td></tr>\n",
       "\t<tr><td>Phalaropus lobatus          </td><td>  19</td></tr>\n",
       "\t<tr><td>Phocoenoides dalli          </td><td>   4</td></tr>\n",
       "\t<tr><td>Pleuronectiformes           </td><td>  11</td></tr>\n",
       "\t<tr><td>Plexauridae                 </td><td>   9</td></tr>\n",
       "\t<tr><td>Poecillastra                </td><td>   2</td></tr>\n",
       "\t<tr><td>Porifera                    </td><td>1310</td></tr>\n",
       "\t<tr><td>Ptilosarcus                 </td><td>   3</td></tr>\n",
       "\t<tr><td>Puffinus griseus            </td><td>   2</td></tr>\n",
       "\t<tr><td>Rathbunaster californicus   </td><td>  11</td></tr>\n",
       "\t<tr><td>Rhabdocalyptus dawsoni      </td><td>  53</td></tr>\n",
       "\t<tr><td>Rhinobatidae                </td><td>   1</td></tr>\n",
       "\t<tr><td>Scleractinia                </td><td>  31</td></tr>\n",
       "\t<tr><td>Scorpaenidae                </td><td>   5</td></tr>\n",
       "\t<tr><td>Sebastes                    </td><td>  59</td></tr>\n",
       "\t<tr><td>Sebastes chlorostictus      </td><td>   1</td></tr>\n",
       "\t<tr><td>Sebastes proriger           </td><td>   1</td></tr>\n",
       "\t<tr><td>Sebastes ruberrimus         </td><td>   2</td></tr>\n",
       "\t<tr><td>Sebastes saxicola           </td><td>   1</td></tr>\n",
       "\t<tr><td>Sebastolobus                </td><td>   1</td></tr>\n",
       "\t<tr><td>Staurocalyptus              </td><td>   1</td></tr>\n",
       "\t<tr><td>Stylaster californicus      </td><td>   9</td></tr>\n",
       "\t<tr><td>Swiftia                     </td><td>  15</td></tr>\n",
       "\t<tr><td>Thrissacanthias penicillatus</td><td>   4</td></tr>\n",
       "\t<tr><td>Uria aalge                  </td><td>   1</td></tr>\n",
       "\t<tr><td>Xestospongia                </td><td>   6</td></tr>\n",
       "</tbody>\n",
       "</table>\n"
      ],
      "text/latex": [
       "A data.frame: 69 × 2\n",
       "\\begin{tabular}{ll}\n",
       " Category & x\\\\\n",
       " <chr> & <dbl>\\\\\n",
       "\\hline\n",
       "\t Actiniaria                    &   5\\\\\n",
       "\t Actinopterygii                &   2\\\\\n",
       "\t Aegina                        &   1\\\\\n",
       "\t Alcyonacea                    &   4\\\\\n",
       "\t Amphiophiura superba          &   5\\\\\n",
       "\t Amphiura (Amphiura) diomedeae &   2\\\\\n",
       "\t Anelassorhynchus abyssalis    &   2\\\\\n",
       "\t Asteroidea                    &   4\\\\\n",
       "\t Asteronyx loveni              &   1\\\\\n",
       "\t Balaenoptera musculus         &  22\\\\\n",
       "\t Bathyraja interrupta          &   1\\\\\n",
       "\t Bothrocara molle              &   1\\\\\n",
       "\t Calappidae                    &   1\\\\\n",
       "\t Chimaera                      &   1\\\\\n",
       "\t Chordata                      &  12\\\\\n",
       "\t Cnidaria                      &   3\\\\\n",
       "\t Crinoidea                     &  77\\\\\n",
       "\t Decapoda                      &   4\\\\\n",
       "\t Delphinidae                   &   7\\\\\n",
       "\t Desmophyllum pertusum         &   8\\\\\n",
       "\t Diphyes dispar                &   5\\\\\n",
       "\t Gorgonocephalidae             &   1\\\\\n",
       "\t Hedingia californica          &   1\\\\\n",
       "\t Heterochone calyx             &   1\\\\\n",
       "\t Holaxonia                     & 105\\\\\n",
       "\t Hydrolagus colliei            &   3\\\\\n",
       "\t Icelinus filamentosus         &   1\\\\\n",
       "\t Labridae                      &   1\\\\\n",
       "\t Larus californicus            &   4\\\\\n",
       "\t Larus occidentalis            &   5\\\\\n",
       "\t ⋮ & ⋮\\\\\n",
       "\t Parapagurus benedicti        &    1\\\\\n",
       "\t Pelecanus occidentalis       &    2\\\\\n",
       "\t Pennatulacea                 &  143\\\\\n",
       "\t Pennatulidae                 &    5\\\\\n",
       "\t Phalacrocorax penicillatus   &    2\\\\\n",
       "\t Phalaropus lobatus           &   19\\\\\n",
       "\t Phocoenoides dalli           &    4\\\\\n",
       "\t Pleuronectiformes            &   11\\\\\n",
       "\t Plexauridae                  &    9\\\\\n",
       "\t Poecillastra                 &    2\\\\\n",
       "\t Porifera                     & 1310\\\\\n",
       "\t Ptilosarcus                  &    3\\\\\n",
       "\t Puffinus griseus             &    2\\\\\n",
       "\t Rathbunaster californicus    &   11\\\\\n",
       "\t Rhabdocalyptus dawsoni       &   53\\\\\n",
       "\t Rhinobatidae                 &    1\\\\\n",
       "\t Scleractinia                 &   31\\\\\n",
       "\t Scorpaenidae                 &    5\\\\\n",
       "\t Sebastes                     &   59\\\\\n",
       "\t Sebastes chlorostictus       &    1\\\\\n",
       "\t Sebastes proriger            &    1\\\\\n",
       "\t Sebastes ruberrimus          &    2\\\\\n",
       "\t Sebastes saxicola            &    1\\\\\n",
       "\t Sebastolobus                 &    1\\\\\n",
       "\t Staurocalyptus               &    1\\\\\n",
       "\t Stylaster californicus       &    9\\\\\n",
       "\t Swiftia                      &   15\\\\\n",
       "\t Thrissacanthias penicillatus &    4\\\\\n",
       "\t Uria aalge                   &    1\\\\\n",
       "\t Xestospongia                 &    6\\\\\n",
       "\\end{tabular}\n"
      ],
      "text/markdown": [
       "\n",
       "A data.frame: 69 × 2\n",
       "\n",
       "| Category &lt;chr&gt; | x &lt;dbl&gt; |\n",
       "|---|---|\n",
       "| Actiniaria                    |   5 |\n",
       "| Actinopterygii                |   2 |\n",
       "| Aegina                        |   1 |\n",
       "| Alcyonacea                    |   4 |\n",
       "| Amphiophiura superba          |   5 |\n",
       "| Amphiura (Amphiura) diomedeae |   2 |\n",
       "| Anelassorhynchus abyssalis    |   2 |\n",
       "| Asteroidea                    |   4 |\n",
       "| Asteronyx loveni              |   1 |\n",
       "| Balaenoptera musculus         |  22 |\n",
       "| Bathyraja interrupta          |   1 |\n",
       "| Bothrocara molle              |   1 |\n",
       "| Calappidae                    |   1 |\n",
       "| Chimaera                      |   1 |\n",
       "| Chordata                      |  12 |\n",
       "| Cnidaria                      |   3 |\n",
       "| Crinoidea                     |  77 |\n",
       "| Decapoda                      |   4 |\n",
       "| Delphinidae                   |   7 |\n",
       "| Desmophyllum pertusum         |   8 |\n",
       "| Diphyes dispar                |   5 |\n",
       "| Gorgonocephalidae             |   1 |\n",
       "| Hedingia californica          |   1 |\n",
       "| Heterochone calyx             |   1 |\n",
       "| Holaxonia                     | 105 |\n",
       "| Hydrolagus colliei            |   3 |\n",
       "| Icelinus filamentosus         |   1 |\n",
       "| Labridae                      |   1 |\n",
       "| Larus californicus            |   4 |\n",
       "| Larus occidentalis            |   5 |\n",
       "| ⋮ | ⋮ |\n",
       "| Parapagurus benedicti        |    1 |\n",
       "| Pelecanus occidentalis       |    2 |\n",
       "| Pennatulacea                 |  143 |\n",
       "| Pennatulidae                 |    5 |\n",
       "| Phalacrocorax penicillatus   |    2 |\n",
       "| Phalaropus lobatus           |   19 |\n",
       "| Phocoenoides dalli           |    4 |\n",
       "| Pleuronectiformes            |   11 |\n",
       "| Plexauridae                  |    9 |\n",
       "| Poecillastra                 |    2 |\n",
       "| Porifera                     | 1310 |\n",
       "| Ptilosarcus                  |    3 |\n",
       "| Puffinus griseus             |    2 |\n",
       "| Rathbunaster californicus    |   11 |\n",
       "| Rhabdocalyptus dawsoni       |   53 |\n",
       "| Rhinobatidae                 |    1 |\n",
       "| Scleractinia                 |   31 |\n",
       "| Scorpaenidae                 |    5 |\n",
       "| Sebastes                     |   59 |\n",
       "| Sebastes chlorostictus       |    1 |\n",
       "| Sebastes proriger            |    1 |\n",
       "| Sebastes ruberrimus          |    2 |\n",
       "| Sebastes saxicola            |    1 |\n",
       "| Sebastolobus                 |    1 |\n",
       "| Staurocalyptus               |    1 |\n",
       "| Stylaster californicus       |    9 |\n",
       "| Swiftia                      |   15 |\n",
       "| Thrissacanthias penicillatus |    4 |\n",
       "| Uria aalge                   |    1 |\n",
       "| Xestospongia                 |    6 |\n",
       "\n"
      ],
      "text/plain": [
       "   Category                      x   \n",
       "1  Actiniaria                      5 \n",
       "2  Actinopterygii                  2 \n",
       "3  Aegina                          1 \n",
       "4  Alcyonacea                      4 \n",
       "5  Amphiophiura superba            5 \n",
       "6  Amphiura (Amphiura) diomedeae   2 \n",
       "7  Anelassorhynchus abyssalis      2 \n",
       "8  Asteroidea                      4 \n",
       "9  Asteronyx loveni                1 \n",
       "10 Balaenoptera musculus          22 \n",
       "11 Bathyraja interrupta            1 \n",
       "12 Bothrocara molle                1 \n",
       "13 Calappidae                      1 \n",
       "14 Chimaera                        1 \n",
       "15 Chordata                       12 \n",
       "16 Cnidaria                        3 \n",
       "17 Crinoidea                      77 \n",
       "18 Decapoda                        4 \n",
       "19 Delphinidae                     7 \n",
       "20 Desmophyllum pertusum           8 \n",
       "21 Diphyes dispar                  5 \n",
       "22 Gorgonocephalidae               1 \n",
       "23 Hedingia californica            1 \n",
       "24 Heterochone calyx               1 \n",
       "25 Holaxonia                     105 \n",
       "26 Hydrolagus colliei              3 \n",
       "27 Icelinus filamentosus           1 \n",
       "28 Labridae                        1 \n",
       "29 Larus californicus              4 \n",
       "30 Larus occidentalis              5 \n",
       "⋮  ⋮                             ⋮   \n",
       "40 Parapagurus benedicti            1\n",
       "41 Pelecanus occidentalis           2\n",
       "42 Pennatulacea                   143\n",
       "43 Pennatulidae                     5\n",
       "44 Phalacrocorax penicillatus       2\n",
       "45 Phalaropus lobatus              19\n",
       "46 Phocoenoides dalli               4\n",
       "47 Pleuronectiformes               11\n",
       "48 Plexauridae                      9\n",
       "49 Poecillastra                     2\n",
       "50 Porifera                      1310\n",
       "51 Ptilosarcus                      3\n",
       "52 Puffinus griseus                 2\n",
       "53 Rathbunaster californicus       11\n",
       "54 Rhabdocalyptus dawsoni          53\n",
       "55 Rhinobatidae                     1\n",
       "56 Scleractinia                    31\n",
       "57 Scorpaenidae                     5\n",
       "58 Sebastes                        59\n",
       "59 Sebastes chlorostictus           1\n",
       "60 Sebastes proriger                1\n",
       "61 Sebastes ruberrimus              2\n",
       "62 Sebastes saxicola                1\n",
       "63 Sebastolobus                     1\n",
       "64 Staurocalyptus                   1\n",
       "65 Stylaster californicus           9\n",
       "66 Swiftia                         15\n",
       "67 Thrissacanthias penicillatus     4\n",
       "68 Uria aalge                       1\n",
       "69 Xestospongia                     6"
      ]
     },
     "metadata": {},
     "output_type": "display_data"
    }
   ],
   "source": [
    "#calculate the number of unique species in each MPA\n",
    "#soquel_canyon_records\n",
    "SpeciesCount_SoquelCanyon <- aggregate(soquel_canyon_records$Count, \n",
    "                                       by=list(Category=soquel_canyon_records$scientificName),\n",
    "                                       FUN=sum)\n",
    "\n",
    "#point_lobos_records\n",
    "SpeciesCount_PointLobos <- aggregate(point_lobos_records$Count, \n",
    "                                     by=list(Category=point_lobos_records$scientificName),\n",
    "                                     FUN=sum)\n",
    "#visualize species counts\n",
    "SpeciesCount_SoquelCanyon\n",
    "SpeciesCount_PointLobos\n"
   ]
  },
  {
   "cell_type": "code",
   "execution_count": 14,
   "metadata": {},
   "outputs": [
    {
     "data": {
      "text/html": [
       "2.87814552026609"
      ],
      "text/latex": [
       "2.87814552026609"
      ],
      "text/markdown": [
       "2.87814552026609"
      ],
      "text/plain": [
       "[1] 2.878146\n",
       "attr(,\"Subsample\")\n",
       "[1] 50"
      ]
     },
     "metadata": {},
     "output_type": "display_data"
    },
    {
     "data": {
      "text/html": [
       "12.2153017829868"
      ],
      "text/latex": [
       "12.2153017829868"
      ],
      "text/markdown": [
       "12.2153017829868"
      ],
      "text/plain": [
       "[1] 12.2153\n",
       "attr(,\"Subsample\")\n",
       "[1] 50"
      ]
     },
     "metadata": {},
     "output_type": "display_data"
    },
    {
     "data": {
      "text/html": [
       "2.87814552026609"
      ],
      "text/latex": [
       "2.87814552026609"
      ],
      "text/markdown": [
       "2.87814552026609"
      ],
      "text/plain": [
       "[1] 2.878146\n",
       "attr(,\"Subsample\")\n",
       "[1] 50"
      ]
     },
     "metadata": {},
     "output_type": "display_data"
    },
    {
     "data": {
      "text/html": [
       "12.2153017829868"
      ],
      "text/latex": [
       "12.2153017829868"
      ],
      "text/markdown": [
       "12.2153017829868"
      ],
      "text/plain": [
       "[1] 12.2153\n",
       "attr(,\"Subsample\")\n",
       "[1] 50"
      ]
     },
     "metadata": {},
     "output_type": "display_data"
    }
   ],
   "source": [
    "#calculate the ES50 value\n",
    "#Hurlbert's index, or ES50, is the expected number of distinct species \n",
    "#in a random sample of 50 observations; it is a bias-indepenent indicator \n",
    "#on marine biodiversity richness. It has the ability to somewhat correct for sampling bias.\n",
    "#0-20: low, 30-50: high\n",
    "\n",
    "ES50_SoquelCanyon = rarefy(SpeciesCount_SoquelCanyon$x,50) \n",
    "ES50_PointLobos = rarefy(SpeciesCount_PointLobos$x,50) \n",
    "\n",
    "ES50_SoquelCanyon\n",
    "ES50_PointLobos\n",
    "\n",
    "ES50_SoquelCanyon2 = rarefy(SpeciesCount_SoquelCanyon$x,50) \n",
    "ES50_PointLobos2 = rarefy(SpeciesCount_PointLobos$x,50) \n",
    "\n",
    "ES50_SoquelCanyon2\n",
    "ES50_PointLobos2"
   ]
  },
  {
   "cell_type": "markdown",
   "metadata": {},
   "source": [
    "### Retrieve taxonomic group  & Environmental Data of interest"
   ]
  },
  {
   "cell_type": "code",
   "execution_count": 16,
   "metadata": {},
   "outputs": [],
   "source": [
    "#Working with genus Sebastes (rockfish)\n",
    "\n",
    "EnvironmentalMetricPresent <- function(polygon, taxa, metric) {\n",
    "    \n",
    "    #obtain occurrences of taxa of interest within the polygon of interest\n",
    "    taxaPresence <- occurrence(geometry = polygon, taxa)\n",
    "    \n",
    "    #create dataframe of the environmental data as well as the lat/lon of the sighting\n",
    "    environmentalMetricDF <- data.frame(EnvironmentalData = taxaPresence[metric], \n",
    "                                   longitude = taxaPresence$decimalLongitude, \n",
    "                                   latitude = taxaPresence$decimalLatitude, \n",
    "                                   date = taxaPresence$eventDate)\n",
    "    \n",
    "    return(environmentalMetricDF)\n",
    "}"
   ]
  },
  {
   "cell_type": "code",
   "execution_count": 21,
   "metadata": {},
   "outputs": [
    {
     "name": "stderr",
     "output_type": "stream",
     "text": [
      "Retrieved 183 records of approximately 183 (100%)\n"
     ]
    },
    {
     "data": {
      "text/html": [
       "<table>\n",
       "<caption>A data.frame: 6 × 4</caption>\n",
       "<thead>\n",
       "\t<tr><th></th><th scope=col>sst</th><th scope=col>longitude</th><th scope=col>latitude</th><th scope=col>date</th></tr>\n",
       "\t<tr><th></th><th scope=col>&lt;dbl&gt;</th><th scope=col>&lt;dbl&gt;</th><th scope=col>&lt;dbl&gt;</th><th scope=col>&lt;fct&gt;</th></tr>\n",
       "</thead>\n",
       "<tbody>\n",
       "\t<tr><th scope=row>1</th><td>12.78</td><td>-121.9688</td><td>36.83320</td><td>2009-05-21T05:12:46Z</td></tr>\n",
       "\t<tr><th scope=row>2</th><td>12.78</td><td>-121.9765</td><td>36.83096</td><td>2000-02-10T21:24:00Z</td></tr>\n",
       "\t<tr><th scope=row>3</th><td>12.75</td><td>-121.9790</td><td>36.84930</td><td>2011-05-21T10:06:00Z</td></tr>\n",
       "\t<tr><th scope=row>4</th><td>12.78</td><td>-121.9467</td><td>36.81833</td><td>NA                  </td></tr>\n",
       "\t<tr><th scope=row>5</th><td>12.75</td><td>-121.9817</td><td>36.84500</td><td>2000-05-12T04:02:00Z</td></tr>\n",
       "\t<tr><th scope=row>6</th><td>12.75</td><td>-121.9853</td><td>36.84600</td><td>2013-05-11T04:04:53Z</td></tr>\n",
       "</tbody>\n",
       "</table>\n"
      ],
      "text/latex": [
       "A data.frame: 6 × 4\n",
       "\\begin{tabular}{r|llll}\n",
       "  & sst & longitude & latitude & date\\\\\n",
       "  & <dbl> & <dbl> & <dbl> & <fct>\\\\\n",
       "\\hline\n",
       "\t1 & 12.78 & -121.9688 & 36.83320 & 2009-05-21T05:12:46Z\\\\\n",
       "\t2 & 12.78 & -121.9765 & 36.83096 & 2000-02-10T21:24:00Z\\\\\n",
       "\t3 & 12.75 & -121.9790 & 36.84930 & 2011-05-21T10:06:00Z\\\\\n",
       "\t4 & 12.78 & -121.9467 & 36.81833 & NA                  \\\\\n",
       "\t5 & 12.75 & -121.9817 & 36.84500 & 2000-05-12T04:02:00Z\\\\\n",
       "\t6 & 12.75 & -121.9853 & 36.84600 & 2013-05-11T04:04:53Z\\\\\n",
       "\\end{tabular}\n"
      ],
      "text/markdown": [
       "\n",
       "A data.frame: 6 × 4\n",
       "\n",
       "| <!--/--> | sst &lt;dbl&gt; | longitude &lt;dbl&gt; | latitude &lt;dbl&gt; | date &lt;fct&gt; |\n",
       "|---|---|---|---|---|\n",
       "| 1 | 12.78 | -121.9688 | 36.83320 | 2009-05-21T05:12:46Z |\n",
       "| 2 | 12.78 | -121.9765 | 36.83096 | 2000-02-10T21:24:00Z |\n",
       "| 3 | 12.75 | -121.9790 | 36.84930 | 2011-05-21T10:06:00Z |\n",
       "| 4 | 12.78 | -121.9467 | 36.81833 | NA                   |\n",
       "| 5 | 12.75 | -121.9817 | 36.84500 | 2000-05-12T04:02:00Z |\n",
       "| 6 | 12.75 | -121.9853 | 36.84600 | 2013-05-11T04:04:53Z |\n",
       "\n"
      ],
      "text/plain": [
       "  sst   longitude latitude date                \n",
       "1 12.78 -121.9688 36.83320 2009-05-21T05:12:46Z\n",
       "2 12.78 -121.9765 36.83096 2000-02-10T21:24:00Z\n",
       "3 12.75 -121.9790 36.84930 2011-05-21T10:06:00Z\n",
       "4 12.78 -121.9467 36.81833 NA                  \n",
       "5 12.75 -121.9817 36.84500 2000-05-12T04:02:00Z\n",
       "6 12.75 -121.9853 36.84600 2013-05-11T04:04:53Z"
      ]
     },
     "metadata": {},
     "output_type": "display_data"
    },
    {
     "data": {
      "text/html": [
       "<style>\n",
       ".list-inline {list-style: none; margin:0; padding: 0}\n",
       ".list-inline>li {display: inline-block}\n",
       ".list-inline>li:not(:last-child)::after {content: \"\\00b7\"; padding: 0 .5ex}\n",
       "</style>\n",
       "<ol class=list-inline><li>183</li><li>4</li></ol>\n"
      ],
      "text/latex": [
       "\\begin{enumerate*}\n",
       "\\item 183\n",
       "\\item 4\n",
       "\\end{enumerate*}\n"
      ],
      "text/markdown": [
       "1. 183\n",
       "2. 4\n",
       "\n",
       "\n"
      ],
      "text/plain": [
       "[1] 183   4"
      ]
     },
     "metadata": {},
     "output_type": "display_data"
    },
    {
     "data": {
      "text/html": [
       "<style>\n",
       ".list-inline {list-style: none; margin:0; padding: 0}\n",
       ".list-inline>li {display: inline-block}\n",
       ".list-inline>li:not(:last-child)::after {content: \"\\00b7\"; padding: 0 .5ex}\n",
       "</style>\n",
       "<ol class=list-inline><li>'sst'</li><li>'longitude'</li><li>'latitude'</li><li>'date'</li></ol>\n"
      ],
      "text/latex": [
       "\\begin{enumerate*}\n",
       "\\item 'sst'\n",
       "\\item 'longitude'\n",
       "\\item 'latitude'\n",
       "\\item 'date'\n",
       "\\end{enumerate*}\n"
      ],
      "text/markdown": [
       "1. 'sst'\n",
       "2. 'longitude'\n",
       "3. 'latitude'\n",
       "4. 'date'\n",
       "\n",
       "\n"
      ],
      "text/plain": [
       "[1] \"sst\"       \"longitude\" \"latitude\"  \"date\"     "
      ]
     },
     "metadata": {},
     "output_type": "display_data"
    }
   ],
   "source": [
    "##Run above function to get Sebastes data within the Soquel Canyon\n",
    "\n",
    "Sebastes_SoquelCanyon <- EnvironmentalMetricPresent(extract_polygon_geometry(soquel_canyon_smca), \n",
    "                                           \"Sebastes\", \n",
    "                                           \"sst\")\n",
    "head(Sebastes_SoquelCanyon)\n",
    "dim(Sebastes_SoquelCanyon)\n",
    "names(Sebastes_SoquelCanyon)\n"
   ]
  },
  {
   "cell_type": "code",
   "execution_count": 23,
   "metadata": {},
   "outputs": [
    {
     "data": {
      "text/html": [
       "<style>\n",
       ".list-inline {list-style: none; margin:0; padding: 0}\n",
       ".list-inline>li {display: inline-block}\n",
       ".list-inline>li:not(:last-child)::after {content: \"\\00b7\"; padding: 0 .5ex}\n",
       "</style>\n",
       "<ol class=list-inline><li>12.73</li><li>12.78</li></ol>\n"
      ],
      "text/latex": [
       "\\begin{enumerate*}\n",
       "\\item 12.73\n",
       "\\item 12.78\n",
       "\\end{enumerate*}\n"
      ],
      "text/markdown": [
       "1. 12.73\n",
       "2. 12.78\n",
       "\n",
       "\n"
      ],
      "text/plain": [
       "[1] 12.73 12.78"
      ]
     },
     "metadata": {},
     "output_type": "display_data"
    }
   ],
   "source": [
    "## Get range of sst values for Sebastes sightings\n",
    "\n",
    "rangeValue <- range(Sebastes_SoquelCanyon$sst)\n",
    "rangeValue"
   ]
  },
  {
   "cell_type": "markdown",
   "metadata": {},
   "source": [
    "### Visualize Environmental Data from OBIS"
   ]
  },
  {
   "cell_type": "code",
   "execution_count": 26,
   "metadata": {},
   "outputs": [
    {
     "data": {
      "image/png": "[encoded data removed]",
      "text/plain": [
       "plot without title"
      ]
     },
     "metadata": {
      "image/png": {
       "height": 420,
       "width": 420
      }
     },
     "output_type": "display_data"
    }
   ],
   "source": [
    "#input: environmental dataframe, taxa, and metric of interest\n",
    "#output: histogram of metric values\n",
    "\n",
    "GraphEnvironmentalMetric <- function(inputDF, taxa, metric) {    \n",
    "    \n",
    "EnvironmentalHistogram <- \n",
    "    ggplot(inputDF, aes_string(x = metric)) +\n",
    "    geom_bar(stat = \"count\") +\n",
    "    theme_bw() +\n",
    "    labs(title = paste(\"Environmental Metric\", metric, \"for Taxa\", taxa)) +\n",
    "    theme(plot.title = element_text(hjust = 0.5))\n",
    "    \n",
    "   return(EnvironmentalHistogram)\n",
    "\n",
    "}\n",
    "\n",
    "SebastesSST <- GraphEnvironmentalMetric(Sebastes_SoquelCanyon, \"Sebastes\", \"sst\")\n",
    "\n",
    "SebastesSST"
   ]
  },
  {
   "cell_type": "markdown",
   "metadata": {},
   "source": [
    "### Map taxa Sightings with associated Environmental Factor"
   ]
  },
  {
   "cell_type": "code",
   "execution_count": 28,
   "metadata": {},
   "outputs": [
    {
     "data": {
      "image/png": "[encoded data removed]",
      "text/plain": [
       "plot without title"
      ]
     },
     "metadata": {
      "image/png": {
       "height": 420,
       "width": 420
      }
     },
     "output_type": "display_data"
    }
   ],
   "source": [
    "#input: environmental dataframe, taxa, and metric of interest\n",
    "#output: map of location and metric values\n",
    "\n",
    "MapEnvironmentalMetric <- function(inputdataframe, taxa, metric) {\n",
    "\n",
    "minLon <- round(min(inputdataframe$longitude), 3)\n",
    "minLat <- round(min(inputdataframe$latitude), 3) \n",
    "maxLon <- round(max(inputdataframe$longitude), 3) \n",
    "maxLat <- round(max(inputdataframe$latitude), 3) \n",
    "    \n",
    "world <- ne_countries(scale = \"medium\", returnclass = \"sf\")\n",
    "\n",
    "MetricMap <- \n",
    "    ggplot(data=world)+\n",
    "    geom_sf() +\n",
    "    geom_point(data = inputdataframe, aes_string(x = \"longitude\", y = \"latitude\", color = metric)) +\n",
    "    coord_sf(xlim = c(minLon, maxLon), ylim = c(minLat, maxLat), expand = TRUE) +\n",
    "    labs(title = paste(\"Environmental Metric\", metric, \"for Taxa\", taxa)) +\n",
    "    theme(plot.title = element_text(hjust = 0.5))\n",
    "    \n",
    "    return(MetricMap)\n",
    "}\n",
    "\n",
    "SebastesMAP <- MapEnvironmentalMetric(Sebastes_SoquelCanyon, \"Sebastes\", \"sst\")\n",
    "\n",
    "SebastesMAP"
   ]
  },
  {
   "cell_type": "code",
   "execution_count": null,
   "metadata": {},
   "outputs": [],
   "source": []
  }
 ],
 "metadata": {
  "kernelspec": {
   "display_name": "R",
   "language": "R",
   "name": "ir"
  },
  "language_info": {
   "codemirror_mode": "r",
   "file_extension": ".r",
   "mimetype": "text/x-r-source",
   "name": "R",
   "pygments_lexer": "r",
   "version": "3.6.3"
  }
 },
 "nbformat": 4,
 "nbformat_minor": 4
}
